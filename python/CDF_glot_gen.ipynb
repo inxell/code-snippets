{
 "cells": [
  {
   "cell_type": "code",
   "execution_count": 1,
   "metadata": {},
   "outputs": [],
   "source": [
    "import pandas as pd\n",
    "import numpy as np"
   ]
  },
  {
   "cell_type": "code",
   "execution_count": 3,
   "metadata": {},
   "outputs": [],
   "source": [
    "import plotly\n",
    "import plotly.graph_objs as go"
   ]
  },
  {
   "cell_type": "code",
   "execution_count": 12,
   "metadata": {},
   "outputs": [],
   "source": [
    "def hist_density(arr, bins, offset = 0.0001):\n",
    "    # Using density of histogram to approximate the probability density function.\n",
    "    try:\n",
    "        arr = np.array(arr, dtype = np.float64)\n",
    "    except:\n",
    "        print(\"Invalid input array!\")\n",
    "    try:\n",
    "        bins = np.array(bins, dtype = np.float64)\n",
    "    except:\n",
    "        print(\"Invalid bins!\")\n",
    "    assert len(arr) > 0, \"Empty array!\"\n",
    "    assert len(bins) > 1, \"Invalid bins size!\"\n",
    "    assert (bins[:-1] < bins[1:]).all(), \"bins are not monotonic increasing!\"\n",
    "    bins = bins + offset\n",
    "    # offset is added to achieve weak percentile, since np.histogram excludes the right boundary of each bin.\n",
    "    if arr.min() < bins.min():\n",
    "        bins = np.append(arr.min(), bins)\n",
    "    return np.histogram(arr, bins)[0]*1.0/len(arr)"
   ]
  },
  {
   "cell_type": "code",
   "execution_count": 13,
   "metadata": {},
   "outputs": [],
   "source": [
    "def trace_gen(data, bins, legend_name = ''):\n",
    "    pdf = hist_density(data, bins, offset = 0.0001)\n",
    "    cdf = pdf.cumsum()\n",
    "    k = len(bins) - len(cdf)\n",
    "    trace = go.Scatter(\n",
    "        x = bins[k:],\n",
    "        y = cdf,\n",
    "        name = legend_name,\n",
    "        hoverinfo = 'x+y'\n",
    "    )\n",
    "    return trace\n",
    "\n",
    "\n",
    "def layout_gen(title, xtitle = '', ytitle = '', fontsize = 24, xfontsize = 18, yfontsize = 18, showlegend = False):\n",
    "    layout = {\n",
    "        'title': title,\n",
    "        'titlefont':dict(size = fontsize),\n",
    "        'xaxis':{\n",
    "            'title': xtitle,\n",
    "            'titlefont':dict(size = xfontsize),\n",
    "        },\n",
    "        'yaxis':{\n",
    "            'title': ytitle,\n",
    "            'titlefont':dict(size = yfontsize),\n",
    "        },\n",
    "        'showlegend' : showlegend\n",
    "    }\n",
    "    return layout\n",
    "\n",
    "def plot_gen(traces, layout, filename):\n",
    "    if type(traces) is not list:\n",
    "        traces = [traces]\n",
    "    if len(traces) > 1:\n",
    "        layout['showlegend'] = True\n",
    "    plotly.offline.plot(dict(data = traces, layout = layout), show_link = False,\n",
    "                       filename = filename + '.html')"
   ]
  },
  {
   "cell_type": "code",
   "execution_count": 17,
   "metadata": {},
   "outputs": [],
   "source": [
    "data1 = np.random.randn(10000) # 10000 sample of standard normal \n",
    "data2 = 0.3*np.random.randn(9000) + 1 # 9000 sample of N(mean = 1, sigma = 0.3)\n",
    "bins = np.linspace(-5, 5, 1001) # generate 1000 bins\n",
    "\n",
    "trace1 = trace_gen(data1, bins, legend_name = 'mean = 0, sigma = 1')\n",
    "trace2 = trace_gen(data2, bins, legend_name = 'mean = 1, sigma = 0.3')\n",
    "traces = [trace1, trace2]\n",
    "\n",
    "title = 'CDF of Two Normal Distributions'\n",
    "xtitle = 'x values'\n",
    "ytitle = 'Proportion no greater than y'\n",
    "layout = layout_gen(title, xtitle, ytitle)\n",
    "\n",
    "filename = 'cdf-of-two-normal-distribution'\n",
    "plot_gen(traces, layout, filename)"
   ]
  },
  {
   "cell_type": "code",
   "execution_count": null,
   "metadata": {},
   "outputs": [],
   "source": []
  }
 ],
 "metadata": {
  "kernelspec": {
   "display_name": "Python 3",
   "language": "python",
   "name": "python3"
  },
  "language_info": {
   "codemirror_mode": {
    "name": "ipython",
    "version": 3
   },
   "file_extension": ".py",
   "mimetype": "text/x-python",
   "name": "python",
   "nbconvert_exporter": "python",
   "pygments_lexer": "ipython3",
   "version": "3.6.3"
  }
 },
 "nbformat": 4,
 "nbformat_minor": 2
}
